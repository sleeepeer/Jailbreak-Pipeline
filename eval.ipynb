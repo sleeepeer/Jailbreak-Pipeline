{
 "cells": [
  {
   "cell_type": "code",
   "execution_count": 31,
   "metadata": {},
   "outputs": [],
   "source": [
    "import os\n",
    "import json\n",
    "from utils import eval_step\n",
    "\n",
    "def check_results(test_param):\n",
    "    file_name = f\"{test_param['model_name']}-attack:{test_param['attack_method']}-defense:{test_param['defense_method']}-metrics:{test_param['metrics']}-data_num:{test_param['data_num']}-seed:{test_param['seed']}.json\"\n",
    "\n",
    "    if test_param['note'] != None:\n",
    "        file_name = f\"{test_param['note']}\" + file_name\n",
    "    with open(os.path.join('results', file_name)) as file:\n",
    "        # with open(os.path.join('PaLM_sst2_output', file_name)) as file:\n",
    "        results = json.load(file)\n",
    "    asr = 0\n",
    "    for dp in results:\n",
    "        if dp['label'] == 1: asr += 1\n",
    "    # print(f'load ASR: {asr / len(results)}')\n",
    "    return results\n",
    "\n",
    "def eval_again(test_param):\n",
    "    results = check_results(test_param)\n",
    "    asr = 0\n",
    "    for result in results:\n",
    "        asr += eval_step(result['output'], 'list')\n",
    "    print(f'again ASR: {asr / len(results)}')\n",
    "    "
   ]
  },
  {
   "cell_type": "code",
   "execution_count": 33,
   "metadata": {},
   "outputs": [
    {
     "name": "stdout",
     "output_type": "stream",
     "text": [
      "again ASR: 0.32\n"
     ]
    }
   ],
   "source": [
    "test_param = {\n",
    "    'seed': 35,\n",
    "    'data_num': 100,\n",
    "    'model_name': 'palm2',           # palm2, gpt-3.5-turbo, bard\n",
    "    'attack_method': None,                  # HJA, OJA, Fuzzing\n",
    "    'defense_method': 'Detection',           # Detection\n",
    "    'metrics': 'classifier',                 # list, classifier\n",
    "    'note': 'default_safety_'\n",
    "}\n",
    "\n",
    "# results = check_results(test_param)\n",
    "eval_again(test_param)"
   ]
  },
  {
   "cell_type": "code",
   "execution_count": 28,
   "metadata": {},
   "outputs": [
    {
     "name": "stdout",
     "output_type": "stream",
     "text": [
      "load ASR: 0.71\n",
      "again ASR: 0.13\n"
     ]
    }
   ],
   "source": [
    "test_param = {\n",
    "    'seed': 35,\n",
    "    'data_num': 100,\n",
    "    'model_name': 'gpt-3.5-turbo',           # palm2, gpt-3.5-turbo, bard\n",
    "    'attack_method': 'Fuzzing',                  # HJA, OJA, Fuzzing\n",
    "    'defense_method': 'Detection',           # Detection\n",
    "    'metrics': 'classifier',                 # list, classifier\n",
    "    'note': None\n",
    "}\n",
    "\n",
    "# results = check_results(test_param)\n",
    "eval_again(test_param)"
   ]
  },
  {
   "cell_type": "code",
   "execution_count": 32,
   "metadata": {},
   "outputs": [
    {
     "name": "stdout",
     "output_type": "stream",
     "text": [
      "again ASR: 0.05\n",
      "again ASR: 0.1\n",
      "again ASR: 0.16\n",
      "again ASR: 0.12\n",
      "again ASR: 0.14\n",
      "again ASR: 0.13\n",
      "again ASR: 0.17\n"
     ]
    }
   ],
   "source": [
    "for attack in [None, 'HJA', 'OJA', 'Fuzzing']:\n",
    "    test_param['attack_method'] = attack\n",
    "    for defense in [None, 'Detection']:\n",
    "        test_param['defense_method'] = defense\n",
    "        try:\n",
    "            eval_again(test_param)\n",
    "        except Exception:\n",
    "            pass"
   ]
  }
 ],
 "metadata": {
  "kernelspec": {
   "display_name": "pi",
   "language": "python",
   "name": "python3"
  },
  "language_info": {
   "codemirror_mode": {
    "name": "ipython",
    "version": 3
   },
   "file_extension": ".py",
   "mimetype": "text/x-python",
   "name": "python",
   "nbconvert_exporter": "python",
   "pygments_lexer": "ipython3",
   "version": "3.9.0"
  },
  "orig_nbformat": 4
 },
 "nbformat": 4,
 "nbformat_minor": 2
}
